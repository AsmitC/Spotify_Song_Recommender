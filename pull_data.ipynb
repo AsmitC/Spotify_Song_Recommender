{
 "cells": [
  {
   "cell_type": "markdown",
   "metadata": {},
   "source": [
    "# Pulling User Listening Data"
   ]
  },
  {
   "cell_type": "code",
   "execution_count": 1,
   "metadata": {},
   "outputs": [],
   "source": [
    "import spotipy\n",
    "from spotipy.oauth2 import SpotifyOAuth\n",
    "\n",
    "import pandas as pd\n",
    "from helper_functions import *"
   ]
  },
  {
   "cell_type": "code",
   "execution_count": 2,
   "metadata": {},
   "outputs": [],
   "source": [
    "# Just a few constants...\n",
    "# ----------------------|\n",
    "CLIENT_ID = \"df50d92dc49b4af09e6eb53326a5df90\"\n",
    "CLIENT_SECRET = \"3cadcf7af6374944afec1604e57f3a52\"\n",
    "REDIRECT_URL = \"http://localhost:9001/callback\"\n",
    "SCOPE = \"user-library-read user-top-read playlist-modify-public\"\n",
    "\n",
    "# Set up authentication\n",
    "# --------------------|\n",
    "sp = spotipy.Spotify(auth_manager = SpotifyOAuth(\n",
    "  client_id = CLIENT_ID,\n",
    "  client_secret = CLIENT_SECRET,\n",
    "  redirect_uri = REDIRECT_URL,\n",
    "  scope = SCOPE \n",
    "))"
   ]
  },
  {
   "cell_type": "code",
   "execution_count": 3,
   "metadata": {},
   "outputs": [
    {
     "name": "stdout",
     "output_type": "stream",
     "text": [
      "\n",
      "Getting and Filtering Top Artist Data...\n",
      "\n",
      "Artist Data Saved!\n"
     ]
    }
   ],
   "source": [
    "# Load top artist data\n",
    "# -------------------|\n",
    "print(\"\\nGetting and Filtering Top Artist Data...\\n\")\n",
    "\n",
    "# Get the filtered list of top artists \n",
    "top_artists = offset_api_limit(sp, sp.current_user_top_artists())\n",
    "# Create the data frame\n",
    "top_artists_df = get_artists_df(top_artists)\n",
    "# Save the data in a .pkl file\n",
    "top_artists_df.to_pickle(\"./top_artists.pkl\")\n",
    "\n",
    "print(\"Artist Data Saved!\")"
   ]
  },
  {
   "cell_type": "code",
   "execution_count": null,
   "metadata": {},
   "outputs": [],
   "source": [
    "print(\"\\nGetting and Filtering Top Track Data...\\n\")\n",
    "\n",
    "# Get the filtered list of top tracks\n",
    "top_tracks = offset_api_limit(sp, sp.current_user_top_tracks())\n",
    "# Create the track data frame\n",
    "top_tracks_df = get_tracks_df(top_tracks)\n",
    "# Add the audio features\n",
    "top_tracks_df = get_track_audio_df(sp, top_tracks_df)\n",
    "\n",
    "top_tracks_df.to_pickle(\"./top_tracks.pkl\")\n",
    "\n",
    "print(\"Track Data Saved!\")"
   ]
  },
  {
   "cell_type": "code",
   "execution_count": null,
   "metadata": {},
   "outputs": [],
   "source": [
    "# Load playlist data\n",
    "# -----------------|\n",
    "print(\"\\nGetting Playlist Data...\\n\")\n",
    "\n",
    "# Create the playlists data frame\n",
    "playlists_df = get_all_playlist_tracks_df(sp, sp.current_user_playlists())\n",
    "# Add the audio features\n",
    "playlists_df = get_track_audio_df(sp, playlists_df)\n",
    "# Save the data in a .pkl file\n",
    "playlists_df.to_pickle(\"./playlists.pkl\")\n",
    "\n",
    "print(\"Playlist Data Saved!\")"
   ]
  },
  {
   "cell_type": "code",
   "execution_count": null,
   "metadata": {},
   "outputs": [],
   "source": [
    "playlists_df = pd.read_pickle(\"./data/playlists.pkl\")"
   ]
  },
  {
   "cell_type": "code",
   "execution_count": null,
   "metadata": {},
   "outputs": [],
   "source": [
    "# Generating the sample recommendations\n",
    "print(\"\\nGetting Sample Recommendations...\\n\")\n",
    "\n",
    "search_space = ['temp2', 'temp', 'waiter', \"Zack’s Cake\", 'Just Once More',\n",
    "    'West End Coffee', 'Tour Dates', 'Shea Butter Shampoo',\n",
    "    'Biting the Bottleneck', 'Scare Tactics',\n",
    "    'I should have seen the view from halfway down',\n",
    "    'Never quite steady', 'Tautology', \"Don’t forget the bouquet!\",\n",
    "    'Chillis Booth', '15mg', 'Gradient Descent', 'Market Watch',\n",
    "    'Project ⊗', 'The Iceman !', 'The intermediary 🚧', 'Smoothie King',\n",
    "    'Bus No. 5509', 'Driving down eldridge', 'The Cedars of Edina']\n",
    "\n",
    "filtered_playlists = playlists_df[playlists_df[\"playlist_name\"].isin(search_space)]\n",
    "\n",
    "# Extracting track IDs from the filtered playlists\n",
    "seed_track_ids = filtered_playlists['id'].drop_duplicates().tolist()\n",
    "\n",
    "# Getting the recommendations\n",
    "# Change indexing and call multiple times because of rate-limits\n",
    "recs = get_recs(sp, seed_track_ids, 11)\n",
    "\n",
    "# Merge the temporary files created above\n",
    "recs_df = merge_temp_files(11)\n",
    "\n",
    "# Intermediary save for new recommendations\n",
    "recs_df.to_pickle(\"./data/new_recommendations.pkl\")\n",
    "\n",
    "# Add previous recommedations to this df\n",
    "old_recs_df = pd.read_pickle(\"./data/old_recommendations.pkl\")\n",
    "recs_df = pd.concat([recs_df, old_recs_df], ignore_index = True)\n",
    "\n",
    "# Drop duplicates\n",
    "recs_df = recs_df.drop_duplicates(subset = ['id'])\n",
    "\n",
    "# Adding audio features\n",
    "# Note: Batching required, refer to the below cells\n",
    "recs_df = get_track_audio_df(sp, recs_df)\n",
    "\n",
    "# Writing out to a .pkl file\n",
    "recs_df.to_pickle(\"./recommendations.pkl\")"
   ]
  },
  {
   "cell_type": "code",
   "execution_count": 3,
   "metadata": {},
   "outputs": [
    {
     "data": {
      "text/plain": [
       "(16522, 19)"
      ]
     },
     "execution_count": 3,
     "metadata": {},
     "output_type": "execute_result"
    }
   ],
   "source": [
    "# old_recs_df = pd.read_pickle(\"./data/old_recommendations.pkl\")\n",
    "# new_recs_df = pd.read_pickle(\"./data/new_recommendations.pkl\")\n",
    "\n",
    "# recs_df = pd.concat([new_recs_df, old_recs_df], ignore_index = True)\n",
    "# recs_df = recs_df.drop_duplicates(subset = ['id'])\n",
    "\n",
    "# recs_df.shape"
   ]
  },
  {
   "cell_type": "code",
   "execution_count": 4,
   "metadata": {},
   "outputs": [],
   "source": [
    "# Run this in batches manually by indexing\n",
    "# i.e; recs_df.iloc[i:i+batch_size] = get_track_audio_df(sp, recs_df.iloc[i:i+batch_size])\n",
    "# tmp_df = get_track_audio_df(sp, recs_df.iloc[16500:recs_df.shape[0], :])\n",
    "# tmp_df.to_pickle(\"./data/tmp_recs_audio_{25}.pkl\")"
   ]
  },
  {
   "cell_type": "code",
   "execution_count": 3,
   "metadata": {},
   "outputs": [],
   "source": [
    "# full_recs_df = merge_temp_files(25)\n",
    "# full_recs_df.to_pickle(\"./data/recommendations.pkl\")"
   ]
  }
 ],
 "metadata": {
  "kernelspec": {
   "display_name": "Python 3",
   "language": "python",
   "name": "python3"
  },
  "language_info": {
   "codemirror_mode": {
    "name": "ipython",
    "version": 3
   },
   "file_extension": ".py",
   "mimetype": "text/x-python",
   "name": "python",
   "nbconvert_exporter": "python",
   "pygments_lexer": "ipython3",
   "version": "3.11.4"
  }
 },
 "nbformat": 4,
 "nbformat_minor": 2
}
